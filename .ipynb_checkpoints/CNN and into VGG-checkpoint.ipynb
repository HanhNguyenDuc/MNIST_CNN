{
 "cells": [
  {
   "cell_type": "markdown",
   "metadata": {},
   "source": [
    "# Very Deep Convolutional Networks For Large Scale Image Recognition\n",
    "\n",
    "## Convnet Configurations\n",
    "\n",
    "Để có thể đánh gía sự tăng trưởng được mang lại bỏ các mô hình ConvNet, tất cả các cấu hình của các lớp ConvNet đều được thiết kế theo một tiêu chuẩn nhất định được tạo ra bới Ciresan.\n",
    "\n",
    "Trong phần này, chúng ta sẽ tìm hiểu những vấn đề sau:\n",
    "\n",
    "    - Mô tả mô hình chung của mạng ConvNet\n",
    "    - Liệt kê những đặc điểm của mạng ConvNet, nó có tác dụng gì trong việc đánh giá mô hình\n",
    "    - Lựa chọn thiết kế mô hình\n",
    "\n",
    "1. Mô hình chung (Achitecture)\n",
    "\n",
    "Một số khái niệm cần nắm được khi muốn hiểu về các CNN layers:\n",
    "\n",
    "    - Kernel: Cửa sổ trượt, được dùng để nhân tích chập với ma trận ảnh\n",
    "    - Stride: là bước nhảy, stride càng lớn thì kích thước ảnh càng nhỏ.\n",
    "    - Receptive Feild: Vùng tiếp nhận, đối với mắt chúng ta thường luôn nhìn tập trung vào phạm vi nào đó, tương tự với CNN cũng giống như vậy, càng về layer sau thì thông tin sẽ càng được đưa về trung tâm, vì vậy ta dùng các pooling layer để tập trung thông tin lại.\n",
    "    => Do đó với CNN layers, thông tin về feature sẽ được tập trung về trung tâm ảnh, điều này có nghĩa là nó không thể xác định được vị trí của feature ở đâu mà chỉ có thế xác định được \"có hay không\" feature đó.\n",
    "    - padding: có hai dạng padding là \"valid\" và \"same\", đối với valid chúng ta sẽ không có vùng biên ngoài của ảnh, tức là càng về các layer sau thì ảnh sẽ càng bé lại. Còn đối với \"same\" padding, chúng ta sẽ sử dụng biên ngoài (gồm các số 0) để giữ nguyên kích thước ảnh, điều này giúp ta đảm bảo không mất đi đặc trưng của ảnh.\n",
    "\n",
    "Trong quá trình training, input của ConvNet có cỡ mặc định là 224x224 ảnh RGB, Trong giai đoạn tiền xử lý sẽ có một quá trình làm normalize dữ liệu bằng cách trừ đi giá trị RGB trung bình, giá trị trung bình này được lấy từ việc đánh giá training set. Sau đó ảnh sẽ được đưa qua các Convolution Layers, nơi mà chúng ta sử dụng các filter với kernel rất nhỏ 3x3 (Sử dụng 3x3 bởi vì kernel 3x3 là kernel nhỏ nhất để có thể đưa ra các định dạng của đường chéo, đường ngang dọc hay các điểm trung tâm). Ta cũng sử dụng các filter 1x1 để gộp các đặc trưng lại với nhau (đưa layers từ n filters sang thành m filters) và stride bằng 1."
   ]
  },
  {
   "cell_type": "code",
   "execution_count": null,
   "metadata": {},
   "outputs": [],
   "source": []
  }
 ],
 "metadata": {
  "kernelspec": {
   "display_name": "Python 3",
   "language": "python",
   "name": "python3"
  },
  "language_info": {
   "codemirror_mode": {
    "name": "ipython",
    "version": 3
   },
   "file_extension": ".py",
   "mimetype": "text/x-python",
   "name": "python",
   "nbconvert_exporter": "python",
   "pygments_lexer": "ipython3",
   "version": "3.7.3"
  }
 },
 "nbformat": 4,
 "nbformat_minor": 2
}
